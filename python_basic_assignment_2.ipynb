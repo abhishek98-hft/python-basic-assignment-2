{
  "nbformat": 4,
  "nbformat_minor": 0,
  "metadata": {
    "colab": {
      "provenance": []
    },
    "kernelspec": {
      "name": "python3",
      "display_name": "Python 3"
    },
    "language_info": {
      "name": "python"
    }
  },
  "cells": [
    {
      "cell_type": "markdown",
      "source": [
        "PYTHON BASIC ASSIGNMENT ( MOUDLE 3 )\n"
      ],
      "metadata": {
        "id": "GE8B0Tw-podH"
      }
    },
    {
      "cell_type": "markdown",
      "source": [
        "THEORY QUESTIONS\n"
      ],
      "metadata": {
        "id": "jx-wdDXNp5uT"
      }
    },
    {
      "cell_type": "markdown",
      "source": [
        "Q1: What are data structures, and why are they important?"
      ],
      "metadata": {
        "id": "fVuU1z-rp_1r"
      }
    },
    {
      "cell_type": "markdown",
      "source": [
        "Ans:Data structures are the fundamental building blocks of computer programming. They define how data is organized, stored, and manipulated within a program.Data structures are essential in programming, optimizing memory usage, improving performance, and simplifying complex operations. They have a significant impact on memory management, especially with large datasets. Efficient allocation and utilization, using structures like arrays and linked lists, minimize memory wastage.\n",
        "\n"
      ],
      "metadata": {
        "id": "OFb27ZvFreFo"
      }
    },
    {
      "cell_type": "markdown",
      "source": [
        "Q2:  Explain the difference between mutable and immutable data types with examples?"
      ],
      "metadata": {
        "id": "2ScTqyHarhQe"
      }
    },
    {
      "cell_type": "markdown",
      "source": [
        "Ans:In Python, data types can be classified into two categories: mutable and immutable.\n",
        "\n",
        "Immutable Data Types\n",
        "\n",
        "Immutable data types are those whose values cannot be changed once they are created. If you try to modify an immutable object, a new object is created instead. Common immutable data types in Python include:\n",
        "\n",
        "Numbers: Integers, floats, and complex numbers are immutable. For example: x = 5 print(id(x)) # Output: some memory address x = 10 print(id(x)) # Output: a different memory address Here, x initially points to an integer object with value 5. When x is reassigned to 10, a new integer object is created, and x now points to this new object.\n",
        "\n",
        "Strings: Strings are sequences of characters and are immutable. Any operation that modifies a string will create a new string object. s = \"hello\" print(id(s)) # Output: some memory address s = s + \" world\" print(id(s)) # Output: a different memory address Here, concatenating \" world\" to s creates a new string object.\n",
        "\n",
        "Tuples: Tuples are ordered collections of items and are immutable. You cannot change the elements of a tuple once it is created. t = (1, 2, 3) t[0] = 4 # Raises TypeError\n",
        "\n",
        "Mutable Data Types\n",
        "\n",
        "Mutable data types are those whose values can be changed after they are created. Common mutable data types in Python include:\n",
        "\n",
        "Lists: Lists are ordered collections of items and are mutable. You can add, remove, or change items in a list. lst = [1, 2, 3] lst.append(4) print(lst) # Output: [1, 2, 3, 4] lst[0] = 0 print(lst) # Output: [0, 2, 3, 4]\n",
        "\n",
        "Dictionaries: Dictionaries are collections of key-value pairs and are mutable. You can add, remove, or change key-value pairs. d = {\"name\": \"Alice\", \"age\": 25} d[\"age\"] = 26 print(d) # Output: {'name': 'Alice', 'age': 26}\n",
        "\n",
        "Sets: Sets are unordered collections of unique items and are mutable. You can add or remove items from a set. s = {1, 2, 3} s.add(4) print(s) # Output: {1, 2, 3, 4}\n",
        "\n",
        "Considerations\n",
        "\n",
        "When working with mutable and immutable data types, consider the following:\n",
        "\n",
        "Memory Efficiency: Immutable objects can be more memory-efficient because they can be shared among multiple variables. Mutable objects, on the other hand, require separate memory allocation for each variable.\n",
        "\n",
        "Thread Safety: Immutable objects are inherently thread-safe because their state cannot be changed. Mutable objects require careful synchronization to avoid race conditions.\n",
        "\n",
        "Performance: Operations on immutable objects can be slower because they often involve creating new objects. Mutable objects can be modified in place, which can be faster."
      ],
      "metadata": {
        "id": "NuXMrYlQrt0F"
      }
    },
    {
      "cell_type": "markdown",
      "source": [
        "Q3:What are the main differences between lists and tuples in Python?\n"
      ],
      "metadata": {
        "id": "SJLRadbgrxbT"
      }
    },
    {
      "cell_type": "markdown",
      "source": [
        "Ans:In Python, lists and tuples are both used to store collections of data, but they have some key differences that make them suitable for different use cases.\n",
        "\n",
        "Mutability\n",
        "\n",
        "The most significant difference between lists and tuples is that lists are mutable, meaning their elements can be changed, added, or removed after creation. In contrast, tuples are immutable, meaning once they are created, their elements cannot be changed.\n",
        "\n",
        "Example:\n",
        "\n",
        " List example\n",
        "my_list = [1, 2, 3]\n",
        "my_list[1] = 4 # This is allowed\n",
        "print(my_list) # Output: [1, 4, 3]\n",
        "\n",
        " Tuple example\n",
        "my_tuple = (1, 2, 3)\n",
        "my_tuple[1] = 4 # This will raise an error\n",
        "\n",
        "Syntax\n",
        "\n",
        "Lists are defined using square brackets [], while tuples are defined using parentheses ().\n",
        "\n",
        "Example:\n",
        "\n",
        " List\n",
        "my_list = [1, 2, 3]\n",
        "\n",
        " Tuple\n",
        "my_tuple = (1, 2, 3)\n",
        "\n",
        "Performance\n",
        "\n",
        "Tuples are generally faster than lists because they are immutable and have a smaller memory footprint. This makes tuples more suitable for situations where the data should not change.\n",
        "\n",
        "Methods\n",
        "\n",
        "Lists have more built-in methods than tuples, such as append(), extend(), remove(), and pop(), which allow for more flexible data manipulation.\n",
        "\n",
        "Example:\n",
        "\n",
        " List methods\n",
        "my_list = [1, 2, 3]\n",
        "my_list.append(4)\n",
        "print(my_list) # Output: [1, 2, 3, 4]\n",
        "\n",
        " Tuple methods\n",
        "my_tuple = (1, 2, 3)\n",
        "print(my_tuple.count(2)) # Output: 1\n",
        "print(my_tuple.index(3)) # Output: 2\n",
        "Use Cases\n",
        "\n",
        "Lists are suitable for collections of data that may need to be modified, such as a list of tasks or items in a shopping cart.\n",
        "\n",
        "Tuples are suitable for collections of data that should not change, such as coordinates, RGB color values, or other groupings of related values.\n"
      ],
      "metadata": {
        "id": "5d3FM6l0r9Ql"
      }
    },
    {
      "cell_type": "markdown",
      "source": [
        "Q4:Describe how dictionaries store data?"
      ],
      "metadata": {
        "id": "AHhchRY0sA_5"
      }
    },
    {
      "cell_type": "markdown",
      "source": [
        "Ans:Dictionaries are used to store data values in key:value pairs.\n",
        "\n",
        "A dictionary is a collection which is ordered, changeable and do not allow duplicates.\n",
        "\n",
        "Dictionaries are written with curly brackets, and have keys and values:\n",
        "\n"
      ],
      "metadata": {
        "id": "sSFqJWqMsMB2"
      }
    },
    {
      "cell_type": "markdown",
      "source": [
        " Q5:Why might you use a set instead of a list in Python?"
      ],
      "metadata": {
        "id": "UMn75iznsOXd"
      }
    },
    {
      "cell_type": "markdown",
      "source": [
        "Ans:In Python, both sets and lists are used to store collections of elements but they have key differences that make them suitable for different use cases. The main difference is that lists are ordered, meaning the order of elements is preserved and they can be accessed by their index while sets are unordered meaning they do not maintain the order of elements and automatically ensure all elements are unique. that's why set are used more than list."
      ],
      "metadata": {
        "id": "aQCxTA9osh9u"
      }
    },
    {
      "cell_type": "markdown",
      "source": [
        "Q6: What is a string in Python, and how is it different from a list?"
      ],
      "metadata": {
        "id": "9drcZ7E1sk5b"
      }
    },
    {
      "cell_type": "markdown",
      "source": [
        "Ans: in Python, lists and strings are both sequence data types, but they have distinct characteristics and uses.\n",
        "\n",
        "Lists in Python\n",
        "\n",
        "A list is an ordered collection of elements that can store different data types, such as integers, strings, and even other lists. Lists are mutable, meaning you can modify them after creation by adding, removing, or changing elements. Lists are created using square brackets [] or the list() function.\n",
        "\n",
        "Attributes of Lists:\n",
        "\n",
        "Ordered Collection: Elements have a specific index starting from 0.\n",
        "\n",
        "Mutable: Elements can be added, removed, or modified.\n",
        "\n",
        "Indexing: Elements can be accessed by their index values.\n",
        "\n",
        "Duplicate Values: Lists can hold duplicate values.\n",
        "\n",
        "Strings in Python\n",
        "\n",
        "A string is a sequence of characters enclosed in quotes (single, double, or triple). Strings are immutable, meaning they cannot be changed after creation. Any modification creates a new string. Strings are created using quotes or the str() function.\n",
        "\n",
        "Attributes of Strings:\n",
        "\n",
        "Immutable: Cannot be changed after creation.\n",
        "\n",
        "Slicing: Can create a new sequence of characters.\n",
        "\n",
        "Concatenation: Can be combined using the + operator.\n",
        "\n",
        "Splitting: Can be split into a list of substrings using the split() method.\n",
        "\n",
        "Indexing: Characters can be accessed using their index.\n",
        "\n",
        "Length: The len() function returns the number of characters.\n",
        "\n",
        "Key Differences:\n",
        "\n",
        "Mutability: Lists are mutable, while strings are immutable.\n",
        "\n",
        "Data Types: Lists can store multiple data types, whereas strings store only characters.\n",
        "\n",
        "Modification: Lists can be modified in place, but strings require creating a new string for modifications."
      ],
      "metadata": {
        "id": "DkR__xxaszyN"
      }
    },
    {
      "cell_type": "markdown",
      "source": [
        "Q7: How do tuples ensure data integrity in Python?"
      ],
      "metadata": {
        "id": "GCp1fJXAs18G"
      }
    },
    {
      "cell_type": "markdown",
      "source": [
        "Ans: Tuples are immutable to ensure that their content remain constant throughout their life cycle , guaranteeing data integrity and reliability. this immutability allows tuples tobe used as keys in dictionaries and elemens in sets, as they can be hashed. Tuples in python are immutable meaning once they are created, they can not be changed. this characteristic can be leveraged for data integrity by using tuples for data should not be modified after creation."
      ],
      "metadata": {
        "id": "9AyNpF3btBwN"
      }
    },
    {
      "cell_type": "markdown",
      "source": [
        "Q8: What is a hash table, and how does it relate to dictionaries in Python?"
      ],
      "metadata": {
        "id": "XAJ3srzYtEJE"
      }
    },
    {
      "cell_type": "markdown",
      "source": [
        "Ans: Hash table is a data structure that stores key-value pairs efficiently by using a hash function to calculate an index where a value can be quickly accessed based on its key, and in Python, a dictionary is essentially an implementation of a hash table, meaning it uses the hash table concept to store and retrieve data using key-value pairs with fast access times; essentially, when you use a dictionary in Python, you are working with a hash table behind the scenes.\n",
        "\n",
        "Key points about hash tables and Python dictionaries:\n",
        "\n",
        "Functioning:\n",
        "\n",
        "A hash table uses a hash function to convert a key into an index in an array, allowing for fast lookups based on the key.\n",
        "\n",
        "Dictionary implementation:\n",
        "\n",
        "In Python, the built-in \"dict\" data type is a hash table, meaning it stores data as key-value pairs and uses a hash function to efficiently find values based on their keys."
      ],
      "metadata": {
        "id": "aNISiT0ytPXw"
      }
    },
    {
      "cell_type": "markdown",
      "source": [
        "Q9:Can lists contain different data types in Python?"
      ],
      "metadata": {
        "id": "v3nsPsQ_tRCS"
      }
    },
    {
      "cell_type": "markdown",
      "source": [
        "Ans: Yes, List contains different data types in python such as , numbers strings, or other data structures. List is useful for storing collection of data and perform operation on each element in list."
      ],
      "metadata": {
        "id": "E5ym8G40tc40"
      }
    },
    {
      "cell_type": "markdown",
      "source": [
        "Q10: Explain why strings are immutable in Python?"
      ],
      "metadata": {
        "id": "_zIPpedLtfVV"
      }
    },
    {
      "cell_type": "markdown",
      "source": [
        "Ans: In Python, strings are considered \"immutable\" which means that once a string is created, its contents cannot be directly changed; if you want to modify a string, you essentially create a new string with the desired changes instead of altering the original one.\n",
        " Efficiency: Immutable strings can be cached effectively as their value is guaranteed to stay the same.\n",
        "\n",
        "Security: Since strings cannot be directly altered, it helps prevent unintended modifications to sensitive data.\n",
        "\n",
        "Hashing: Immutable strings can be used as keys in dictionaries because their hash value remains consistent."
      ],
      "metadata": {
        "id": "12rFGqkutowZ"
      }
    },
    {
      "cell_type": "markdown",
      "source": [
        "Q11:What advantages do dictionaries offer over lists for certain tasks?\n"
      ],
      "metadata": {
        "id": "SI9R3h61tq_p"
      }
    },
    {
      "cell_type": "markdown",
      "source": [
        "Ans: Dictionaries have several advantages over lists for tasks that require frequent lookups or searches. Dictionaries are faster for finding a specific value, and they can store complex data structures.\n",
        "\n",
        "Speed\n",
        "\n",
        "Lookups\n",
        "\n",
        "Dictionaries are faster for finding a specific value because they use a hash table to store key-value pairs.\n",
        "\n",
        "Iteration\n",
        "\n",
        "Lists are faster for ordered operations like sorting, but dictionaries are faster for lookup operations.\n",
        "\n",
        "Data storage\n",
        "\n",
        "Memory efficiency: Dictionaries are memory efficient because they only store the key-value pairs that are needed.\n",
        "\n",
        "Complex data structures: Dictionaries can store complex data structures like graphs and databases.\n",
        "\n",
        "Flexibility\n",
        "\n",
        "Data types: Dictionaries can store any type of data as both the key and the value.\n",
        "\n",
        "Ease of use: Dictionaries are easy to use and manipulate in Python."
      ],
      "metadata": {
        "id": "Sm5ljI4-t662"
      }
    },
    {
      "cell_type": "markdown",
      "source": [
        "Q12:Describe a scenario where using a tuple would be preferable over a list?\n"
      ],
      "metadata": {
        "id": "Tu-4f5GFt9T9"
      }
    },
    {
      "cell_type": "markdown",
      "source": [
        "Ans: Use a tuple if you need an immutable collection where the elements won't change after creation. Tuples are generally faster and more memory-efficient than lists, making them better for fixed collections, especially as dictionary keys or when iteration speed is crucial."
      ],
      "metadata": {
        "id": "av2tSl-Huan5"
      }
    },
    {
      "cell_type": "markdown",
      "source": [
        "Q13:How do sets handle duplicate values in Python?"
      ],
      "metadata": {
        "id": "xcFfum5cucvB"
      }
    },
    {
      "cell_type": "markdown",
      "source": [
        "Ans: Items of a set in python are immutable (unchangeable), do not duplicate values, and unordered. Thus, items in a set do not appear in a stipulated manner, i.e., they can appear in a different order every time it is used. Due to this, set items cannot be referred to by key or index.In a set, no duplicates are allowed. Every element in a set must be unique. We can simply add elements to a set, and finally we will get a set of elements with duplicates removed automatically."
      ],
      "metadata": {
        "id": "olCkfVDmuoAn"
      }
    },
    {
      "cell_type": "markdown",
      "source": [
        "Q14: How does the “in” keyword work differently for lists and dictionaries?\n"
      ],
      "metadata": {
        "id": "yJj4rGHtuq01"
      }
    },
    {
      "cell_type": "markdown",
      "source": [
        "Ans:The in and not in operator works on dictionaries; it tells you whether something appears or not as a key in the dictionary. It returns two values True or False.\n",
        "\n",
        "The in operator uses different algorithms for lists and dictionaries. For lists, it uses a search algorithm. As the list gets longer, the search time gets longer in direct\n",
        "proportion. For dictionaries, Python uses an algorithm called a hashtable that has a remarkable property: the in operator takes about the same amount of time no matter how many items there are in a dictionary."
      ],
      "metadata": {
        "id": "7Y3EBUPqvD2C"
      }
    },
    {
      "cell_type": "markdown",
      "source": [
        "Q15: Can you modify the elements of a tuple? Explain why or why not?"
      ],
      "metadata": {
        "id": "FdPcroDGvFsr"
      }
    },
    {
      "cell_type": "markdown",
      "source": [
        "Ans: no, elements in tuple are not modified bbecause tuples are immutable, this means that once a tuple is created its elements cannot be changed,added,or remove."
      ],
      "metadata": {
        "id": "i0M3eiKQvRxq"
      }
    },
    {
      "cell_type": "markdown",
      "source": [
        "Q16: What is a nested dictionary, and give an example of its use case?"
      ],
      "metadata": {
        "id": "lOG5X7FSvT4T"
      }
    },
    {
      "cell_type": "markdown",
      "source": [
        "Ans: A nested dictionary is a dictionary that is stored within another dictionary. It's a way to store data in multiple layers, which can be useful for managing complex data.\n",
        "\n",
        "Example\n",
        "\n",
        "An organizational chart can be represented as a nested dictionary where the keys are departments and the values are dictionaries of employees in each department.\n",
        "\n",
        "Use cases\n",
        "\n",
        "Employee records: Organize employees by department, with each employee's details in a nested dictionary.\n",
        "\n",
        "Inventory systems: Track product categories, subcategories, and individual product details."
      ],
      "metadata": {
        "id": "VbpXxv-Gvr3G"
      }
    },
    {
      "cell_type": "markdown",
      "source": [
        "Q17:Describe the time complexity of accessing elements in a dictionary?"
      ],
      "metadata": {
        "id": "5BCXToL8vt4Q"
      }
    },
    {
      "cell_type": "markdown",
      "source": [
        "Ans: In Python, the time complexity of accessing an element in a dictionary is  0(1) on average. This means that accessing an element in a dictionary is very fast."
      ],
      "metadata": {
        "id": "zKeX8jXrv61Y"
      }
    },
    {
      "cell_type": "markdown",
      "source": [
        "Q18: In what situations are lists preferred over dictionaries?"
      ],
      "metadata": {
        "id": "T0u1DxVAv8_Z"
      }
    },
    {
      "cell_type": "markdown",
      "source": [
        "Ans: lists are preferred over dictionaries when reqiured order collection and sequence operation, such as maintaining a stack or queue, lists are more suitable."
      ],
      "metadata": {
        "id": "Zxua1-DOwJCd"
      }
    },
    {
      "cell_type": "markdown",
      "source": [
        "Q19: Why are dictionaries considered unordered, and how does that affect data retrieval?"
      ],
      "metadata": {
        "id": "njKhraFrwLDW"
      }
    },
    {
      "cell_type": "markdown",
      "source": [
        "Ans: Dictionaries are considered unordered because they do not maintain a specific order of their key-value pairs when storing data, meaning you cannot access elements based on their position in the collection, but rather by their unique key; this prioritizes fast retrieval of data using the key, rather than iterating through a sequence to find the desired value, making it ideal for lookups but less suitable for ordered access like a list.\n",
        "\n",
        "Impact on data retrieval:\n",
        "\n",
        "Fast lookups: Since you can directly access a value using its key, dictionaries are very efficient for retrieving data when you know the exact key you need.\n",
        "\n",
        "No sequential access: If you need to access elements in a specific order, you would typically use a list or another ordered data structure instead of a dictionary."
      ],
      "metadata": {
        "id": "n1T82lSpwWve"
      }
    },
    {
      "cell_type": "markdown",
      "source": [
        "Q20: Explain the difference between a list and a dictionary in terms of data retrieval.?"
      ],
      "metadata": {
        "id": "OWYvq7ZHwYbC"
      }
    },
    {
      "cell_type": "markdown",
      "source": [
        "Ans: A list is an ordered collection of items, whereas a dictionary is an unordered data collection in a key: value pair. Elements from the list can be accessed using the index, while the elements of the dictionary can be accessed using keys."
      ],
      "metadata": {
        "id": "QvjYGQsFwhrL"
      }
    },
    {
      "cell_type": "markdown",
      "source": [
        "# PRACTICALS QUESTIONS :-"
      ],
      "metadata": {
        "id": "iVcXRxBRwlKF"
      }
    },
    {
      "cell_type": "markdown",
      "source": [
        "Q1:P Write a code to create a string with your name and print it?"
      ],
      "metadata": {
        "id": "yuBsa9SKw0FP"
      }
    },
    {
      "cell_type": "code",
      "source": [
        "s = \"Abhishek kumar pandey\"\n",
        "print(s)"
      ],
      "metadata": {
        "id": "Or1miUVkxLJ9",
        "colab": {
          "base_uri": "https://localhost:8080/"
        },
        "outputId": "12de6bdd-4f19-4f61-e9db-1494aac77dce"
      },
      "execution_count": 1,
      "outputs": [
        {
          "output_type": "stream",
          "name": "stdout",
          "text": [
            "Abhishek kumar pandey\n"
          ]
        }
      ]
    },
    {
      "cell_type": "markdown",
      "source": [
        "Q2: Write a code to find the length of the string \"Hello World\"?"
      ],
      "metadata": {
        "id": "oFKajYtgxOyz"
      }
    },
    {
      "cell_type": "code",
      "source": [
        "s = \"Hello World\"\n",
        "print(len(s))"
      ],
      "metadata": {
        "id": "1tWpzuqNpnqL",
        "colab": {
          "base_uri": "https://localhost:8080/"
        },
        "outputId": "f8ada494-c4af-4fed-93a5-6a822619ff96"
      },
      "execution_count": 2,
      "outputs": [
        {
          "output_type": "stream",
          "name": "stdout",
          "text": [
            "11\n"
          ]
        }
      ]
    },
    {
      "cell_type": "markdown",
      "source": [
        "Q3: Write a code to slice the first 3 characters from the string \"Python Programming\"?"
      ],
      "metadata": {
        "id": "qc9-GNO0xcVJ"
      }
    },
    {
      "cell_type": "code",
      "execution_count": 3,
      "metadata": {
        "id": "cNv1YnPZNT6o",
        "colab": {
          "base_uri": "https://localhost:8080/"
        },
        "outputId": "e304db74-c0b6-4d19-bb21-9853eafb5013"
      },
      "outputs": [
        {
          "output_type": "stream",
          "name": "stdout",
          "text": [
            "Pyt\n"
          ]
        }
      ],
      "source": [
        "s = \"Python Programming\"\n",
        "print(s[0:3])"
      ]
    },
    {
      "cell_type": "markdown",
      "source": [
        "Q4: Write a code to convert the string \"hello\" to uppercase?"
      ],
      "metadata": {
        "id": "FSEbP5Azxo8Z"
      }
    },
    {
      "cell_type": "code",
      "source": [
        "s = \"hello\"\n",
        "res = s.upper()\n",
        "print(res)"
      ],
      "metadata": {
        "id": "FCMK3MgGx13t",
        "colab": {
          "base_uri": "https://localhost:8080/"
        },
        "outputId": "27d6a1a6-03e4-4661-df77-5c03cca925b1"
      },
      "execution_count": 4,
      "outputs": [
        {
          "output_type": "stream",
          "name": "stdout",
          "text": [
            "HELLO\n"
          ]
        }
      ]
    },
    {
      "cell_type": "markdown",
      "source": [
        "Q5: Write a code to replace the word \"apple\" with \"orange\" in the string \"I like apple\"?"
      ],
      "metadata": {
        "id": "gbs1YozNx276"
      }
    },
    {
      "cell_type": "code",
      "source": [
        "s = \"i like apple\"\n",
        "s1 = s.replace(\"apple\",\"orange\")\n",
        "print(s1)"
      ],
      "metadata": {
        "id": "btSv7tYvyGy_",
        "colab": {
          "base_uri": "https://localhost:8080/"
        },
        "outputId": "3d45fd16-72a8-4d26-9cc1-6be62dfde7c8"
      },
      "execution_count": 5,
      "outputs": [
        {
          "output_type": "stream",
          "name": "stdout",
          "text": [
            "i like orange\n"
          ]
        }
      ]
    },
    {
      "cell_type": "markdown",
      "source": [
        "Q6: Write a code to create a list with numbers 1 to 5 and print it?"
      ],
      "metadata": {
        "id": "sUDYa1cayLKY"
      }
    },
    {
      "cell_type": "code",
      "source": [
        "list = [1,2,3,4,5]\n",
        "print(list)"
      ],
      "metadata": {
        "id": "iqUjNXEByI7q",
        "colab": {
          "base_uri": "https://localhost:8080/"
        },
        "outputId": "2d8e131e-db4a-4cf0-cade-c8a48299768b"
      },
      "execution_count": 6,
      "outputs": [
        {
          "output_type": "stream",
          "name": "stdout",
          "text": [
            "[1, 2, 3, 4, 5]\n"
          ]
        }
      ]
    },
    {
      "cell_type": "markdown",
      "source": [
        "Q7: Write a code to append the number 10 to the list [1, 2, 3, 4]?"
      ],
      "metadata": {
        "id": "l1sTxoEsyYrM"
      }
    },
    {
      "cell_type": "code",
      "source": [
        "list = [1,2,3,4]\n",
        "list.append(10)\n",
        "print(list)"
      ],
      "metadata": {
        "id": "sk2PK5_xyIcQ",
        "colab": {
          "base_uri": "https://localhost:8080/"
        },
        "outputId": "6ed146f9-4f4e-4fbf-eee0-96f5beb19e26"
      },
      "execution_count": 7,
      "outputs": [
        {
          "output_type": "stream",
          "name": "stdout",
          "text": [
            "[1, 2, 3, 4, 10]\n"
          ]
        }
      ]
    },
    {
      "cell_type": "markdown",
      "source": [
        "Q8:Write a code to remove the number 3 from the list [1, 2, 3, 4, 5]?"
      ],
      "metadata": {
        "id": "XWNoZcfFymnm"
      }
    },
    {
      "cell_type": "code",
      "source": [
        "list = [1,2,3,4,5]\n",
        "list.remove(3)\n",
        "print(list)"
      ],
      "metadata": {
        "id": "nBYtm_Y0yIDb",
        "colab": {
          "base_uri": "https://localhost:8080/"
        },
        "outputId": "cdb396f8-009e-4a52-d244-832f0e52643d"
      },
      "execution_count": 8,
      "outputs": [
        {
          "output_type": "stream",
          "name": "stdout",
          "text": [
            "[1, 2, 4, 5]\n"
          ]
        }
      ]
    },
    {
      "cell_type": "markdown",
      "source": [
        "Q9: Write a code to access the second element in the list ['a', 'b', 'c', 'd']?"
      ],
      "metadata": {
        "id": "eZMCpr4Hy09Q"
      }
    },
    {
      "cell_type": "code",
      "source": [
        "list = ['a','b','c','d']\n",
        "print(list[1])"
      ],
      "metadata": {
        "id": "DsFEiVk0yHlg",
        "colab": {
          "base_uri": "https://localhost:8080/"
        },
        "outputId": "44083ea8-cab4-4bc7-9788-9b8bd09b5d99"
      },
      "execution_count": 9,
      "outputs": [
        {
          "output_type": "stream",
          "name": "stdout",
          "text": [
            "b\n"
          ]
        }
      ]
    },
    {
      "cell_type": "markdown",
      "source": [
        "Q10: Write a code to reverse the list [10, 20, 30, 40, 50].?"
      ],
      "metadata": {
        "id": "Cey6wusmzCT3"
      }
    },
    {
      "cell_type": "code",
      "source": [
        "list = [10,20,30,40,50]\n",
        "list.reverse()\n",
        "print(list)"
      ],
      "metadata": {
        "id": "AwxXX31qzNIz",
        "colab": {
          "base_uri": "https://localhost:8080/"
        },
        "outputId": "2be5223a-769c-4a4a-b4fe-a09fd8c85893"
      },
      "execution_count": 10,
      "outputs": [
        {
          "output_type": "stream",
          "name": "stdout",
          "text": [
            "[50, 40, 30, 20, 10]\n"
          ]
        }
      ]
    },
    {
      "cell_type": "markdown",
      "source": [
        "Q11: Write a code to create a tuple with the elements 100, 200, 300 and print it.?"
      ],
      "metadata": {
        "id": "GafLpgPMzREi"
      }
    },
    {
      "cell_type": "code",
      "source": [
        "tuple = (100,200,300)\n",
        "print(tuple)"
      ],
      "metadata": {
        "id": "QLcKLZGbzPxl",
        "colab": {
          "base_uri": "https://localhost:8080/"
        },
        "outputId": "b3d8b117-27ba-4ac0-b959-e052806fccf1"
      },
      "execution_count": 11,
      "outputs": [
        {
          "output_type": "stream",
          "name": "stdout",
          "text": [
            "(100, 200, 300)\n"
          ]
        }
      ]
    },
    {
      "cell_type": "markdown",
      "source": [
        "Q12: Write a code to access the second-to-last element of the tuple ('red', 'green', 'blue', 'yellow').?"
      ],
      "metadata": {
        "id": "6B3--ghRznzf"
      }
    },
    {
      "cell_type": "code",
      "source": [
        "tuple = ('red','green','blue','yellow')\n",
        "print(tuple[-2:])"
      ],
      "metadata": {
        "id": "bu4nSWFqzPm3",
        "colab": {
          "base_uri": "https://localhost:8080/"
        },
        "outputId": "fb92257f-96d6-4163-cda3-b3abd9d34122"
      },
      "execution_count": 17,
      "outputs": [
        {
          "output_type": "stream",
          "name": "stdout",
          "text": [
            "('blue',)\n"
          ]
        }
      ]
    },
    {
      "cell_type": "markdown",
      "source": [
        "Q13: Write a code to find the minimum number in the tuple (10, 20, 5, 15).?"
      ],
      "metadata": {
        "id": "wvyxGMtgz1xu"
      }
    },
    {
      "cell_type": "code",
      "source": [
        "tuple = (10,20,5,15)\n",
        "print(min(tuple))"
      ],
      "metadata": {
        "id": "B1tOBhYUzPg5",
        "colab": {
          "base_uri": "https://localhost:8080/"
        },
        "outputId": "6b44f2a6-91b1-45dd-88ce-19e906442fe8"
      },
      "execution_count": 18,
      "outputs": [
        {
          "output_type": "stream",
          "name": "stdout",
          "text": [
            "5\n"
          ]
        }
      ]
    },
    {
      "cell_type": "markdown",
      "source": [
        "Q14: Write a code to find the index of the element \"cat\" in the tuple ('dog', 'cat', 'rabbit').?"
      ],
      "metadata": {
        "id": "gC3mXyeg0EED"
      }
    },
    {
      "cell_type": "code",
      "source": [
        "tuple = ('dog','cat','rabbit')\n",
        "print(tuple.index('cat'))"
      ],
      "metadata": {
        "id": "L8YmV4iHzPbz",
        "colab": {
          "base_uri": "https://localhost:8080/"
        },
        "outputId": "dd3dc1b6-9539-4c41-a0c5-32bbade577cb"
      },
      "execution_count": 19,
      "outputs": [
        {
          "output_type": "stream",
          "name": "stdout",
          "text": [
            "1\n"
          ]
        }
      ]
    },
    {
      "cell_type": "markdown",
      "source": [
        "Q15: Write a code to create a tuple containing three different fruits and check if \"kiwi\" is in it.?"
      ],
      "metadata": {
        "id": "dJjA6KMA0Uyx"
      }
    },
    {
      "cell_type": "code",
      "source": [
        "tuple = ('apple','banana','kiwi')\n",
        "print('kiwi' in tuple)"
      ],
      "metadata": {
        "id": "1d0x_fBJzPWO",
        "colab": {
          "base_uri": "https://localhost:8080/"
        },
        "outputId": "590c09ed-44bf-4c0b-f12c-445ab836e58a"
      },
      "execution_count": 20,
      "outputs": [
        {
          "output_type": "stream",
          "name": "stdout",
          "text": [
            "True\n"
          ]
        }
      ]
    },
    {
      "cell_type": "markdown",
      "source": [
        "Q16: Write a code to create a set with the elements 'a', 'b', 'c' and print it.?\n"
      ],
      "metadata": {
        "id": "tDLTg6rZ0fme"
      }
    },
    {
      "cell_type": "code",
      "source": [
        "set = {'a','b','c'}\n",
        "print(set)"
      ],
      "metadata": {
        "id": "DsHmbdkAzPOq",
        "colab": {
          "base_uri": "https://localhost:8080/"
        },
        "outputId": "e204d055-66e6-49bc-90fa-8ee41706b4aa"
      },
      "execution_count": 21,
      "outputs": [
        {
          "output_type": "stream",
          "name": "stdout",
          "text": [
            "{'b', 'c', 'a'}\n"
          ]
        }
      ]
    },
    {
      "cell_type": "markdown",
      "source": [
        "Q17: Write a code to clear all elements from the set {1, 2, 3,4,5}.?"
      ],
      "metadata": {
        "id": "cbn2woV10waG"
      }
    },
    {
      "cell_type": "code",
      "source": [
        "set = {1,2,3,4,5}\n",
        "set.clear()\n",
        "print(set)"
      ],
      "metadata": {
        "id": "8ZWu9QbPzPI2",
        "colab": {
          "base_uri": "https://localhost:8080/"
        },
        "outputId": "2278eee1-e3bc-4d96-b67a-8a96500b8b4e"
      },
      "execution_count": 22,
      "outputs": [
        {
          "output_type": "stream",
          "name": "stdout",
          "text": [
            "set()\n"
          ]
        }
      ]
    },
    {
      "cell_type": "markdown",
      "source": [
        "Q18: Write a code to remove the element 4 from the set {1, 2, 3, 4}.?"
      ],
      "metadata": {
        "id": "M3bYtbpI07Us"
      }
    },
    {
      "cell_type": "code",
      "source": [
        "set = {1,2,3,4}\n",
        "set.remove(4)\n",
        "print(set)"
      ],
      "metadata": {
        "id": "UGHFJGCYzPBR",
        "colab": {
          "base_uri": "https://localhost:8080/"
        },
        "outputId": "3a2e33ca-0dd1-4227-e4d8-9c9e3a1944e3"
      },
      "execution_count": 23,
      "outputs": [
        {
          "output_type": "stream",
          "name": "stdout",
          "text": [
            "{1, 2, 3}\n"
          ]
        }
      ]
    },
    {
      "cell_type": "markdown",
      "source": [
        "Q19: Write a code to find the union of two sets {1, 2, 3} and {3, 4, 5}.?"
      ],
      "metadata": {
        "id": "5N7GspU-1EMM"
      }
    },
    {
      "cell_type": "code",
      "source": [
        "set = {1,2,3}\n",
        "set1 = {3,4,5}\n",
        "print(set.union(set1))"
      ],
      "metadata": {
        "id": "7n7vJDFqzO6B",
        "colab": {
          "base_uri": "https://localhost:8080/"
        },
        "outputId": "a6c7aea9-1f88-489e-f56c-4aa8f03ba398"
      },
      "execution_count": 24,
      "outputs": [
        {
          "output_type": "stream",
          "name": "stdout",
          "text": [
            "{1, 2, 3, 4, 5}\n"
          ]
        }
      ]
    },
    {
      "cell_type": "markdown",
      "source": [
        "Q20: Write a code to find the intersection of two sets {1, 2, 3} and {2, 3, 4}.?"
      ],
      "metadata": {
        "id": "UQnJtESi1PtY"
      }
    },
    {
      "cell_type": "code",
      "source": [
        "set = {1,2,3}\n",
        "set1 = {2,3,4}\n",
        "print(set.intersection(set1))"
      ],
      "metadata": {
        "id": "X2D2iVjqzOwr",
        "colab": {
          "base_uri": "https://localhost:8080/"
        },
        "outputId": "31b4eff8-6894-41c9-d5a6-e6ad9fbc9695"
      },
      "execution_count": 25,
      "outputs": [
        {
          "output_type": "stream",
          "name": "stdout",
          "text": [
            "{2, 3}\n"
          ]
        }
      ]
    },
    {
      "cell_type": "markdown",
      "source": [
        "Q21:. Write a code to create a dictionary with the keys \"name\", \"age\", and \"city\", and print it.?"
      ],
      "metadata": {
        "id": "ntZOctu71ana"
      }
    },
    {
      "cell_type": "code",
      "source": [
        "dictionary = {\"name\":\"Abhishek\",\"age\":20,\"city\":\"Lucknow\"}\n",
        "print(dictionary)"
      ],
      "metadata": {
        "id": "1_ISd4B6zOnU",
        "colab": {
          "base_uri": "https://localhost:8080/"
        },
        "outputId": "da5a8272-b4ad-411f-e2c2-2658a2de7e88"
      },
      "execution_count": 26,
      "outputs": [
        {
          "output_type": "stream",
          "name": "stdout",
          "text": [
            "{'name': 'Abhishek', 'age': 20, 'city': 'Lucknow'}\n"
          ]
        }
      ]
    },
    {
      "cell_type": "markdown",
      "source": [
        "Q22: Write a code to add a new key-value pair \"country\": \"USA\" to the dictionary {'name': 'John', 'age': 25}.?"
      ],
      "metadata": {
        "id": "ntpuYHv-1uaU"
      }
    },
    {
      "cell_type": "code",
      "source": [
        "dictionary = {'name': 'John', 'age': 25}\n",
        "dictionary[\"country\"] = \"USA\"\n",
        "print(dictionary)"
      ],
      "metadata": {
        "id": "f5uENB3RzOVn",
        "colab": {
          "base_uri": "https://localhost:8080/"
        },
        "outputId": "a6dbfe27-fd63-43ff-a9b7-de63984f07f0"
      },
      "execution_count": 27,
      "outputs": [
        {
          "output_type": "stream",
          "name": "stdout",
          "text": [
            "{'name': 'John', 'age': 25, 'country': 'USA'}\n"
          ]
        }
      ]
    },
    {
      "cell_type": "markdown",
      "source": [
        "Q23: Write a code to access the value associated with the key \"name\" in the dictionary {'name': 'Alice', 'age': 30}.?"
      ],
      "metadata": {
        "id": "hkw2kGBs19eJ"
      }
    },
    {
      "cell_type": "code",
      "source": [
        "dictionary = {'name': 'Alice', 'age': 30}\n",
        "print(dictionary[\"name\"])"
      ],
      "metadata": {
        "id": "MmjYy5HyzN8W",
        "colab": {
          "base_uri": "https://localhost:8080/"
        },
        "outputId": "544196ee-b442-465b-d832-0dc3ba7566bc"
      },
      "execution_count": 28,
      "outputs": [
        {
          "output_type": "stream",
          "name": "stdout",
          "text": [
            "Alice\n"
          ]
        }
      ]
    },
    {
      "cell_type": "markdown",
      "source": [
        "Q24: Write a code to remove the key \"age\" from the dictionary {'name': 'Bob', 'age': 22, 'city': 'New York'}.?"
      ],
      "metadata": {
        "id": "IsakdH8n2L7K"
      }
    },
    {
      "cell_type": "code",
      "source": [
        "dictionary = {'name': 'Bob', 'age': 22, 'city': 'New York'}\n",
        "del dictionary[\"age\"]\n",
        "print(dictionary)"
      ],
      "metadata": {
        "id": "xMivcz9l2aX9",
        "colab": {
          "base_uri": "https://localhost:8080/"
        },
        "outputId": "4eb61119-6b64-48b1-ce27-6b37e9f06814"
      },
      "execution_count": 29,
      "outputs": [
        {
          "output_type": "stream",
          "name": "stdout",
          "text": [
            "{'name': 'Bob', 'city': 'New York'}\n"
          ]
        }
      ]
    },
    {
      "cell_type": "markdown",
      "source": [
        "Q25: Write a code to check if the key \"city\" exists in the dictionary {'name': 'Alice', 'city': 'Paris'}?"
      ],
      "metadata": {
        "id": "G23AJRwJ2hYd"
      }
    },
    {
      "cell_type": "code",
      "source": [
        "dicitionary = {'name': 'Alice', 'city': 'Paris'}\n",
        "print(\"city\" in dicitionary)"
      ],
      "metadata": {
        "id": "cTkvcIOe2dGA",
        "colab": {
          "base_uri": "https://localhost:8080/"
        },
        "outputId": "2b2560af-d3c7-4ead-b5d5-a8595d34171a"
      },
      "execution_count": 30,
      "outputs": [
        {
          "output_type": "stream",
          "name": "stdout",
          "text": [
            "True\n"
          ]
        }
      ]
    },
    {
      "cell_type": "markdown",
      "source": [
        "Q26: Write a code to create a list, a tuple, and a dictionary, and print them all.?"
      ],
      "metadata": {
        "id": "QS34qaTs2y7V"
      }
    },
    {
      "cell_type": "code",
      "source": [
        "list = [1,2,3,4]\n",
        "tuple = (1,2,3,4)\n",
        "dictionary = {\"name\":\"Abhishek\",\"age\":20,\"city\":\"Lucknow\"}\n",
        "print(list)\n",
        "print(tuple)\n",
        "print(dictionary)"
      ],
      "metadata": {
        "id": "SXSeog842ctx",
        "colab": {
          "base_uri": "https://localhost:8080/"
        },
        "outputId": "9344b913-ea5c-442a-d50c-7f2aa2b61e43"
      },
      "execution_count": 31,
      "outputs": [
        {
          "output_type": "stream",
          "name": "stdout",
          "text": [
            "[1, 2, 3, 4]\n",
            "(1, 2, 3, 4)\n",
            "{'name': 'Abhishek', 'age': 20, 'city': 'Lucknow'}\n"
          ]
        }
      ]
    },
    {
      "cell_type": "markdown",
      "source": [
        "Q27: Write a code to create a list of 5 random numbers between 1 and 100, sort it in ascending order, and print the\n",
        "result.(replaced)?"
      ],
      "metadata": {
        "id": "i5jBCh1H3GW0"
      }
    },
    {
      "cell_type": "code",
      "source": [
        "import random\n",
        "list = []\n",
        "for i in range(5):\n",
        "    list.append(random.randint(1,100))\n",
        "list.sort()\n",
        "print(list)"
      ],
      "metadata": {
        "id": "cjzkxt9s2cVR",
        "colab": {
          "base_uri": "https://localhost:8080/"
        },
        "outputId": "d0981980-7c4e-4f6e-ac07-1329be52fe9f"
      },
      "execution_count": 33,
      "outputs": [
        {
          "output_type": "stream",
          "name": "stdout",
          "text": [
            "[8, 24, 30, 37, 73]\n"
          ]
        }
      ]
    },
    {
      "cell_type": "markdown",
      "source": [
        "Q28: Write a code to create a list with strings and print the element at the third index.?"
      ],
      "metadata": {
        "id": "8wfDBM2n3OeA"
      }
    },
    {
      "cell_type": "code",
      "source": [
        "list = [\"abhishek\",\"kumar\",\"pandey\"]\n",
        "print(list[2])"
      ],
      "metadata": {
        "id": "xf6YsIYW2b7P",
        "colab": {
          "base_uri": "https://localhost:8080/"
        },
        "outputId": "ea6c4181-3170-423e-8264-792248b159c7"
      },
      "execution_count": 34,
      "outputs": [
        {
          "output_type": "stream",
          "name": "stdout",
          "text": [
            "pandey\n"
          ]
        }
      ]
    },
    {
      "cell_type": "markdown",
      "source": [
        "Q29: Write a code to combine two dictionaries into one and print the result.?"
      ],
      "metadata": {
        "id": "IsHrjBlX3XOY"
      }
    },
    {
      "cell_type": "code",
      "source": [
        "dictionary = {\"name\":\"Abhishek\",\"age\":20,\"city\":\"Lucknow\"}\n",
        "dictionary1 = {\"name\":\"sonu\",\"age\":25,\"city\":\"patna\"}\n",
        "dictionary.update(dictionary1)\n",
        "print(dictionary)"
      ],
      "metadata": {
        "id": "CC437S7T2big",
        "colab": {
          "base_uri": "https://localhost:8080/"
        },
        "outputId": "dfbf4479-f3ff-4dcc-fb3d-b36bf147ca81"
      },
      "execution_count": 36,
      "outputs": [
        {
          "output_type": "stream",
          "name": "stdout",
          "text": [
            "{'name': 'sonu', 'age': 25, 'city': 'patna'}\n"
          ]
        }
      ]
    },
    {
      "cell_type": "markdown",
      "source": [
        "Q30: Write a code to convert a list of strings into a set.?"
      ],
      "metadata": {
        "id": "9Jcm4-UV3hGn"
      }
    },
    {
      "cell_type": "code",
      "source": [
        "list1 = [\"abhishek\",\"kumar\",\"pandey\"]\n",
        "x = set(list1)\n",
        "print(x)\n"
      ],
      "metadata": {
        "colab": {
          "base_uri": "https://localhost:8080/",
          "height": 176
        },
        "id": "GfhXGPXxYkGH",
        "outputId": "fad38020-0f70-400f-d218-108815c41a3a"
      },
      "execution_count": 47,
      "outputs": [
        {
          "output_type": "error",
          "ename": "TypeError",
          "evalue": "'list' object is not callable",
          "traceback": [
            "\u001b[0;31m---------------------------------------------------------------------------\u001b[0m",
            "\u001b[0;31mTypeError\u001b[0m                                 Traceback (most recent call last)",
            "\u001b[0;32m<ipython-input-47-7a355d3ca128>\u001b[0m in \u001b[0;36m<cell line: 0>\u001b[0;34m()\u001b[0m\n\u001b[1;32m      1\u001b[0m \u001b[0mlist1\u001b[0m \u001b[0;34m=\u001b[0m \u001b[0;34m[\u001b[0m\u001b[0;34m\"abhishek\"\u001b[0m\u001b[0;34m,\u001b[0m\u001b[0;34m\"kumar\"\u001b[0m\u001b[0;34m,\u001b[0m\u001b[0;34m\"pandey\"\u001b[0m\u001b[0;34m]\u001b[0m\u001b[0;34m\u001b[0m\u001b[0;34m\u001b[0m\u001b[0m\n\u001b[0;32m----> 2\u001b[0;31m \u001b[0mx\u001b[0m \u001b[0;34m=\u001b[0m \u001b[0mset\u001b[0m\u001b[0;34m(\u001b[0m\u001b[0mlist1\u001b[0m\u001b[0;34m)\u001b[0m\u001b[0;34m\u001b[0m\u001b[0;34m\u001b[0m\u001b[0m\n\u001b[0m\u001b[1;32m      3\u001b[0m \u001b[0mprint\u001b[0m\u001b[0;34m(\u001b[0m\u001b[0mx\u001b[0m\u001b[0;34m)\u001b[0m\u001b[0;34m\u001b[0m\u001b[0;34m\u001b[0m\u001b[0m\n",
            "\u001b[0;31mTypeError\u001b[0m: 'list' object is not callable"
          ]
        }
      ]
    }
  ]
}